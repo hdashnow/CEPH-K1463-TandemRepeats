{
 "cells": [
  {
   "cell_type": "code",
   "execution_count": 1,
   "id": "9213af07",
   "metadata": {},
   "outputs": [],
   "source": [
    "import os\n",
    "import json\n",
    "import numpy as np\n",
    "from pandas import DataFrame\n",
    "import matplotlib.pyplot as plt\n",
    "import matplotlib.patches as patches\n",
    "\n",
    "%matplotlib inline\n",
    "plt.rcParams['figure.figsize'] = [16.5, 5]\n",
    "plt.rcParams['font.size'] = 12"
   ]
  },
  {
   "cell_type": "code",
   "execution_count": 2,
   "id": "c81eae55",
   "metadata": {},
   "outputs": [],
   "source": [
    "import pysam\n",
    "import itertools"
   ]
  },
  {
   "cell_type": "code",
   "execution_count": null,
   "id": "645e34de",
   "metadata": {},
   "outputs": [],
   "source": []
  },
  {
   "cell_type": "code",
   "execution_count": 3,
   "id": "f6dd9a06",
   "metadata": {},
   "outputs": [],
   "source": [
    "trgt_dir = \"../10_trgt/output/\""
   ]
  },
  {
   "cell_type": "code",
   "execution_count": null,
   "id": "470cbdf4",
   "metadata": {},
   "outputs": [],
   "source": []
  },
  {
   "cell_type": "code",
   "execution_count": 4,
   "id": "5705e948",
   "metadata": {},
   "outputs": [],
   "source": [
    "def get_reads_by_allele(path):\n",
    "    bam = pysam.AlignmentFile(path, \"r\")\n",
    "    get_coord = lambda read: (read.reference_name, read.pos)\n",
    "    for coord, reads in itertools.groupby(bam.fetch(until_eof=True), key=get_coord):\n",
    "        reads = list(reads)\n",
    "        reads_by_allele = [[] for _ in range(max(r.get_tag(\"AL\") for r in reads) + 1)]\n",
    "        for read in reads:\n",
    "            reads_by_allele[read.get_tag(\"AL\")].append(read.query_sequence)\n",
    "        yield coord, reads_by_allele\n",
    "\n",
    "\n",
    "def load_repeat_reads(chrom, start, path):\n",
    "    for coord, reads_by_allele in get_reads_by_allele(path):\n",
    "        if (chrom, start) == coord:\n",
    "            return reads_by_allele\n",
    "    assert False\n"
   ]
  },
  {
   "cell_type": "code",
   "execution_count": 5,
   "id": "84c4651c",
   "metadata": {},
   "outputs": [],
   "source": [
    "def calc_mad(values):\n",
    "    median = np.median(values)\n",
    "    mad = np.median([abs(v - median) for v in values])\n",
    "    return mad"
   ]
  },
  {
   "cell_type": "code",
   "execution_count": 6,
   "id": "237c56d5",
   "metadata": {},
   "outputs": [],
   "source": [
    "lens_and_mads = []\n",
    "\n",
    "for file in os.listdir(trgt_dir):\n",
    "    if not file.endswith(\".bam\") or file.endswith(\".spanning.bam\"):\n",
    "        continue\n",
    "    reads_by_allele = load_repeat_reads(\"chrX\", 147912050, os.path.join(trgt_dir, file))\n",
    "    lens_by_allele = [[len(r) - 100 for r in reads] for reads in reads_by_allele]\n",
    "    for lens in lens_by_allele:\n",
    "        allele_len = np.median(lens)\n",
    "        allele_mad = calc_mad(lens)\n",
    "        lens_and_mads.append((allele_len, allele_mad))\n"
   ]
  },
  {
   "cell_type": "code",
   "execution_count": null,
   "id": "b8f14c0f",
   "metadata": {},
   "outputs": [],
   "source": []
  },
  {
   "cell_type": "code",
   "execution_count": 7,
   "id": "f74ea885",
   "metadata": {},
   "outputs": [
    {
     "data": {
      "image/png": "[encoded data removed]",
      "text/plain": [
       "<Figure size 500x500 with 1 Axes>"
      ]
     },
     "metadata": {},
     "output_type": "display_data"
    }
   ],
   "source": [
    "fig, ax = plt.subplots(figsize=(5, 5))\n",
    "lens = [l for l, m in lens_and_mads]\n",
    "mads = [m for l, m in lens_and_mads]\n",
    "\n",
    "ax.scatter(lens, mads)\n",
    "ax.set_xlabel(\"Allele length (bps)\")\n",
    "ax.set_ylabel(\"MAD\");"
   ]
  },
  {
   "cell_type": "code",
   "execution_count": null,
   "id": "e8b75458",
   "metadata": {},
   "outputs": [],
   "source": []
  },
  {
   "cell_type": "code",
   "execution_count": null,
   "id": "4a392247",
   "metadata": {},
   "outputs": [],
   "source": []
  }
 ],
 "metadata": {
  "kernelspec": {
   "display_name": "Python 3 (ipykernel)",
   "language": "python",
   "name": "python3"
  },
  "language_info": {
   "codemirror_mode": {
    "name": "ipython",
    "version": 3
   },
   "file_extension": ".py",
   "mimetype": "text/x-python",
   "name": "python",
   "nbconvert_exporter": "python",
   "pygments_lexer": "ipython3",
   "version": "3.10.8"
  }
 },
 "nbformat": 4,
 "nbformat_minor": 5
}
