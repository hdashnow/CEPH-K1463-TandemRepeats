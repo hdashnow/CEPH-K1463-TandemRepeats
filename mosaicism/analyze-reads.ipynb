{
 "cells": [
  {
   "cell_type": "code",
   "execution_count": null,
   "id": "9213af07",
   "metadata": {},
   "outputs": [],
   "source": [
    "import os\n",
    "import json\n",
    "import numpy as np\n",
    "from pandas import DataFrame\n",
    "import matplotlib.pyplot as plt\n",
    "import matplotlib.patches as patches\n",
    "\n",
    "%matplotlib inline\n",
    "plt.rcParams['figure.figsize'] = [16.5, 5]\n",
    "plt.rcParams['font.size'] = 12"
   ]
  },
  {
   "cell_type": "code",
   "execution_count": null,
   "id": "c81eae55",
   "metadata": {},
   "outputs": [],
   "source": [
    "import pysam\n",
    "import itertools"
   ]
  },
  {
   "cell_type": "code",
   "execution_count": null,
   "id": "645e34de",
   "metadata": {},
   "outputs": [],
   "source": []
  },
  {
   "cell_type": "code",
   "execution_count": null,
   "id": "f6dd9a06",
   "metadata": {},
   "outputs": [],
   "source": [
    "trgt_dir = \"/Volumes/winchester:u6026198/quinlan-shared/data-shared/datasets/Palladium/TRGT/\""
   ]
  },
  {
   "cell_type": "code",
   "execution_count": null,
   "id": "470cbdf4",
   "metadata": {},
   "outputs": [],
   "source": []
  },
  {
   "cell_type": "code",
   "execution_count": null,
   "id": "5705e948",
   "metadata": {},
   "outputs": [],
   "source": [
    "def get_reads_by_allele(bam, chrom, start):\n",
    "    get_coord = lambda read: (read.reference_name, read.pos)\n",
    "    for coord, reads in itertools.groupby(bam.fetch(chrom, start, until_eof=True), key=get_coord):\n",
    "        reads = list(reads)\n",
    "        reads_by_allele = [[] for _ in range(max(r.get_tag(\"AL\") for r in reads) + 1)]\n",
    "        for read in reads:\n",
    "            reads_by_allele[read.get_tag(\"AL\")].append(read.query_sequence)\n",
    "        yield coord, reads_by_allele\n",
    "\n",
    "\n",
    "def load_repeat_reads(bam, chrom, start):\n",
    "    for coord, reads_by_allele in get_reads_by_allele(bam, chrom, start):\n",
    "        print(coord)\n",
    "        if (chrom, start) == coord:\n",
    "            return reads_by_allele\n",
    "    assert False\n",
    "\n",
    "\n"
   ]
  },
  {
   "cell_type": "code",
   "execution_count": null,
   "id": "84c4651c",
   "metadata": {},
   "outputs": [],
   "source": [
    "def calc_mad(values):\n",
    "    median = np.median(values)\n",
    "    mad = np.median([abs(v - median) for v in values])\n",
    "    return mad"
   ]
  },
  {
   "cell_type": "code",
   "execution_count": null,
   "id": "2dcf4014",
   "metadata": {},
   "outputs": [],
   "source": [
    "bam = pysam.AlignmentFile(\"/Volumes/winchester:u6026198/quinlan-shared/data-shared/datasets/Palladium/TRGT/2187_D_adotto_v02.spanning.sorted.bam\", \"r\")\n",
    "reads_by_allele = load_repeat_reads(bam, \"chr5\", 10694357)\n",
    "lens_by_allele = [[len(r) - 100 for r in reads] for reads in reads_by_allele]\n",
    "for lens in lens_by_allele:\n",
    "    allele_len = np.median(lens)\n",
    "    allele_mad = calc_mad(lens)\n",
    "    lens_and_mads.append((allele_len, allele_mad))"
   ]
  },
  {
   "cell_type": "code",
   "execution_count": null,
   "id": "2186b5e3",
   "metadata": {},
   "outputs": [],
   "source": [
    "lens_and_mads = []\n",
    "\n",
    "bam = pysam.AlignmentFile(\"/Volumes/winchester:u6026198/quinlan-shared/data-shared/datasets/Palladium/TRGT/2187_D_adotto_v02.spanning.sorted.bam\", \"r\")\n",
    "reads_by_allele = bam.fetch( \"chrX\", 147912050)\n",
    "for reads in reads_by_allele:\n",
    "    print(reads)\n",
    "lens_by_allele = [[len(r) - 100 for r in reads] for reads in reads_by_allele]\n",
    "for lens in lens_by_allele:\n",
    "    allele_len = np.median(lens)\n",
    "    allele_mad = calc_mad(lens)\n",
    "    lens_and_mads.append((allele_len, allele_mad))\n"
   ]
  },
  {
   "cell_type": "code",
   "execution_count": null,
   "id": "7fc5eeff",
   "metadata": {},
   "outputs": [],
   "source": [
    "# Plot an example locus in one sample\n",
    "\n",
    "lens_and_mads = []\n",
    "\n",
    "for f in os.listdir(trgt_dir):\n",
    "    if f.startswith('200102_S_adotto_v02'):\n",
    "            if not f.endswith(\".bam\") or f.endswith(\".spanning.bam\"):\n",
    "                continue\n",
    "            print(os.path.join(trgt_dir, f))\n",
    "            bam = pysam.AlignmentFile(os.path.join(trgt_dir, f), \"r\")\n",
    "            reads_by_allele = bam.fetch( \"chrX\", 147912050)\n",
    "            lens_by_allele = [[len(r) - 100 for r in reads] for reads in reads_by_allele]\n",
    "            for lens in lens_by_allele:\n",
    "                allele_len = np.median(lens)\n",
    "                allele_mad = calc_mad(lens)\n",
    "                lens_and_mads.append((allele_len, allele_mad))\n",
    "        "
   ]
  },
  {
   "cell_type": "code",
   "execution_count": null,
   "id": "237c56d5",
   "metadata": {},
   "outputs": [],
   "source": [
    "lens_and_mads = []\n",
    "\n",
    "for file in os.listdir(trgt_dir):\n",
    "    if not file.endswith(\".bam\") or file.endswith(\".spanning.bam\"):\n",
    "        continue\n",
    "    reads_by_allele = load_repeat_reads(\"chrX\", 147912050, os.path.join(trgt_dir, file))\n",
    "    lens_by_allele = [[len(r) - 100 for r in reads] for reads in reads_by_allele]\n",
    "    for lens in lens_by_allele:\n",
    "        allele_len = np.median(lens)\n",
    "        allele_mad = calc_mad(lens)\n",
    "        lens_and_mads.append((allele_len, allele_mad))\n"
   ]
  },
  {
   "cell_type": "code",
   "execution_count": null,
   "id": "b8f14c0f",
   "metadata": {},
   "outputs": [],
   "source": []
  },
  {
   "cell_type": "code",
   "execution_count": null,
   "id": "f74ea885",
   "metadata": {},
   "outputs": [],
   "source": [
    "fig, ax = plt.subplots(figsize=(5, 5))\n",
    "lens = [l for l, m in lens_and_mads]\n",
    "mads = [m for l, m in lens_and_mads]\n",
    "\n",
    "ax.scatter(lens, mads)\n",
    "ax.set_xlabel(\"Allele length (bps)\")\n",
    "ax.set_ylabel(\"MAD\");"
   ]
  },
  {
   "cell_type": "code",
   "execution_count": null,
   "id": "e8b75458",
   "metadata": {},
   "outputs": [],
   "source": []
  },
  {
   "cell_type": "code",
   "execution_count": null,
   "id": "4a392247",
   "metadata": {},
   "outputs": [],
   "source": []
  }
 ],
 "metadata": {
  "kernelspec": {
   "display_name": "Python 3",
   "language": "python",
   "name": "python3"
  },
  "language_info": {
   "codemirror_mode": {
    "name": "ipython",
    "version": 3
   },
   "file_extension": ".py",
   "mimetype": "text/x-python",
   "name": "python",
   "nbconvert_exporter": "python",
   "pygments_lexer": "ipython3",
   "version": "3.10.6"
  }
 },
 "nbformat": 4,
 "nbformat_minor": 5
}
